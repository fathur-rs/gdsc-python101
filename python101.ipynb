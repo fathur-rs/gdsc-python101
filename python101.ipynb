{
 "cells": [
  {
   "cell_type": "markdown",
   "metadata": {},
   "source": [
    "# **Python 101**\n",
    "> Fireside GDSC Universitas Airlangga - 15 November 2023"
   ]
  },
  {
   "cell_type": "markdown",
   "metadata": {},
   "source": [
    "## **Python?**"
   ]
  },
  {
   "cell_type": "markdown",
   "metadata": {},
   "source": [
    "- One of the most popular programming language\n",
    "- Robust uses\n",
    "- Subjectively one of the easiest language to master"
   ]
  },
  {
   "cell_type": "markdown",
   "metadata": {},
   "source": [
    "## **how to install?**"
   ]
  },
  {
   "cell_type": "markdown",
   "metadata": {},
   "source": [
    "installed the source,\n",
    "https://www.python.org/downloads/\n",
    "\n",
    "installed miniconda,\n",
    "https://docs.conda.io/projects/miniconda/en/latest/miniconda-install.html"
   ]
  },
  {
   "cell_type": "markdown",
   "metadata": {},
   "source": [
    "## **virtual environtments - Conda**"
   ]
  },
  {
   "cell_type": "markdown",
   "metadata": {},
   "source": [
    "- Conda: Open-source package and environment management system.\n",
    "- Mainly used for Python, but handles other languages too.\n",
    "- Ideal for data science and machine learning projects.\n",
    "- Allows easy creation and switching between different project environments.\n",
    "\n",
    "1. create conda env\n",
    "    ```conda\n",
    "    conda create -n <nama_env> python=<versi>\n",
    "\n",
    "    conda create -n python101 python=3.10\n",
    "    ```\n",
    "\n",
    "2. activate conda env\n",
    "    ```conda\n",
    "    conda activate <nama_env>\n",
    "\n",
    "    conda activate python101\n",
    "    ```\n",
    "3. list of created conda env\n",
    "    ```conda\n",
    "    conda env list\n",
    "\n",
    "    # conda environments:\n",
    "    # base                     /home/austhopia/miniconda3\n",
    "    # python101             *  /home/austhopia/miniconda3/envs/python101\n",
    "    ```\n",
    "4. install packages\n",
    "    ```cmd\n",
    "    pip install <package-name>\n",
    "    ```\n",
    "\n",
    "![Alt text](https://github.com/fathur-rs/gdsc-python101/blob/7c47e56d16d482f07479dcf9fda17302fe457513/img/conda.png?raw=true\")\n"
   ]
  },
  {
   "cell_type": "markdown",
   "metadata": {},
   "source": [
    "## **IDE**"
   ]
  },
  {
   "cell_type": "markdown",
   "metadata": {},
   "source": [
    "- Pycharm\n",
    "- Spider\n",
    "- VS Code\n",
    "- Vim\n",
    "- etc...\n",
    "\n",
    "\n",
    "To connect a Conda environment to VS Code Jupyter Notebook:\n",
    "1. Install the Python VS Code extension.\n",
    "2. Install the Jupyter VS Code extension.\n",
    "3. Reload VS Code.\n",
    "4. At the top right panel, click 'Select Kernel', choose 'Python Environment', and select your pre-existing Conda environment."
   ]
  },
  {
   "cell_type": "markdown",
   "metadata": {},
   "source": [
    "## **basic data types**"
   ]
  },
  {
   "cell_type": "markdown",
   "metadata": {},
   "source": [
    "### Integer"
   ]
  },
  {
   "cell_type": "code",
   "execution_count": 102,
   "metadata": {},
   "outputs": [
    {
     "data": {
      "text/plain": [
       "21"
      ]
     },
     "execution_count": 102,
     "metadata": {},
     "output_type": "execute_result"
    }
   ],
   "source": [
    "# integer\n",
    "## 32131\n",
    "### -13213\n",
    "\n",
    "age = 21\n",
    "age: int = 21\n",
    "age"
   ]
  },
  {
   "cell_type": "markdown",
   "metadata": {},
   "source": [
    "### Float"
   ]
  },
  {
   "cell_type": "code",
   "execution_count": 103,
   "metadata": {},
   "outputs": [
    {
     "data": {
      "text/plain": [
       "3.14"
      ]
     },
     "execution_count": 103,
     "metadata": {},
     "output_type": "execute_result"
    }
   ],
   "source": [
    "# float\n",
    "## 3213.321\n",
    "## -31.321\n",
    "\n",
    "pi: float = 3.14\n",
    "pi"
   ]
  },
  {
   "cell_type": "markdown",
   "metadata": {},
   "source": [
    "### String\n"
   ]
  },
  {
   "cell_type": "markdown",
   "metadata": {},
   "source": [
    "String method:\n",
    "1. lower(): Converts all characters in the string to lowercase.\n",
    "2. upper(): Converts all characters in the string to uppercase.\n",
    "3. strip(): Removes whitespace at the beginning and end of the string.\n",
    "4. lstrip(): Removes whitespace at the beginning of the string.\n",
    "5. rstrip(): Removes whitespace at the end of the string.\n",
    "6. find(sub): Returns the lowest index in the string where substring `sub` is found.\n",
    "7. replace(old, new): Replaces all occurrences of `old` substring with `new`.\n",
    "8. split(sep): Splits the string at the specified separator and returns a list of substrings.\n",
    "9. join(iterable): Joins the elements of an iterable (e.g., list, tuple) into a single string with the string acting as the delimiter.\n",
    "10. format(*args, kwargs): Formats the string using a variety of techniques, like positional and keyword arguments."
   ]
  },
  {
   "cell_type": "code",
   "execution_count": 3,
   "metadata": {},
   "outputs": [
    {
     "name": "stdout",
     "output_type": "stream",
     "text": [
      "Fathurrahman Syarief\n",
      "['my', 'name', 'is', 'fathurrahman', 'syarief']\n"
     ]
    }
   ],
   "source": [
    "# string\n",
    "## \"hello this is string\"\n",
    "## '32.321'\n",
    "\n",
    "name: str = \"fathurrahman syarief\"\n",
    "name_string_format: str = f\"My name is {name.upper()}\"\n",
    "# My name is FATHURRAHMAN SYARIEF\n",
    "\n",
    "print(name.title())\n",
    "\n",
    "print(name_string_format.lower().split(\" \"))"
   ]
  },
  {
   "cell_type": "markdown",
   "metadata": {},
   "source": [
    "### Boolean"
   ]
  },
  {
   "cell_type": "code",
   "execution_count": 105,
   "metadata": {},
   "outputs": [
    {
     "data": {
      "text/plain": [
       "False"
      ]
     },
     "execution_count": 105,
     "metadata": {},
     "output_type": "execute_result"
    }
   ],
   "source": [
    "# bool \n",
    "## True == 1\n",
    "## False == 0\n",
    "\n",
    "has_gf: bool = True and False\n",
    "has_gf"
   ]
  },
  {
   "cell_type": "markdown",
   "metadata": {},
   "source": [
    "## **printing**"
   ]
  },
  {
   "cell_type": "code",
   "execution_count": 5,
   "metadata": {},
   "outputs": [],
   "source": [
    "# print(Hello this is print statement) # >> Error"
   ]
  },
  {
   "cell_type": "code",
   "execution_count": 6,
   "metadata": {},
   "outputs": [
    {
     "name": "stdout",
     "output_type": "stream",
     "text": [
      "3.14\n"
     ]
    }
   ],
   "source": [
    "print(3.14)"
   ]
  },
  {
   "cell_type": "code",
   "execution_count": 9,
   "metadata": {},
   "outputs": [
    {
     "name": "stdout",
     "output_type": "stream",
     "text": [
      "tahun ini saya berumumr 21 tahun True 3.14 | hello\n"
     ]
    }
   ],
   "source": [
    "print(\"tahun ini saya berumumr\", 21, \"tahun\", True, 3.14, end=\" | \") # \\n = enter\n",
    "print(\"hello\")"
   ]
  },
  {
   "cell_type": "code",
   "execution_count": 10,
   "metadata": {},
   "outputs": [
    {
     "name": "stdout",
     "output_type": "stream",
     "text": [
      "tahun in saya berumumr 21 tahun\n",
      "tahun ini saya berumumr 4 tahun\n"
     ]
    }
   ],
   "source": [
    "# string format\n",
    "print(f\"tahun in saya berumumr {21} tahun\")\n",
    "print(f\"tahun ini saya berumumr {2**2} tahun\") "
   ]
  },
  {
   "cell_type": "markdown",
   "metadata": {},
   "source": [
    "## **variable**"
   ]
  },
  {
   "cell_type": "markdown",
   "metadata": {},
   "source": [
    "Code Writing Rules:\n",
    "- Variable names must start with a letter or an underscore.\n",
    "- Python is case-sensitive.\n",
    "- Comments in Python start with #."
   ]
  },
  {
   "cell_type": "code",
   "execution_count": 14,
   "metadata": {},
   "outputs": [
    {
     "name": "stdout",
     "output_type": "stream",
     "text": [
      "world\n",
      "hello dunia\n"
     ]
    }
   ],
   "source": [
    "hello = \"hello\"\n",
    "world = \"world\"\n",
    "print(world)\n",
    "world = \"dunia\"\n",
    "print(hello, world)"
   ]
  },
  {
   "cell_type": "markdown",
   "metadata": {},
   "source": [
    "## **user input**"
   ]
  },
  {
   "cell_type": "markdown",
   "metadata": {},
   "source": [
    "```python\n",
    "input('')\n",
    "```"
   ]
  },
  {
   "cell_type": "code",
   "execution_count": 15,
   "metadata": {},
   "outputs": [
    {
     "data": {
      "text/plain": [
       "'Nama anda Fathur, umur anda 20 tahun'"
      ]
     },
     "execution_count": 15,
     "metadata": {},
     "output_type": "execute_result"
    }
   ],
   "source": [
    "nama = input(\"Nama: \")\n",
    "umur = input(\"Umur: \")\n",
    "f\"Nama anda {nama}, umur anda {umur} tahun\""
   ]
  },
  {
   "cell_type": "markdown",
   "metadata": {},
   "source": [
    "## **basic operators**"
   ]
  },
  {
   "cell_type": "markdown",
   "metadata": {},
   "source": [
    "Arithmetic Operators:\n",
    "  - `+`, `-`, `*`, `/`: Basic arithmetic operations.\n",
    "  - `%`: Modulus - remainder of division.\n",
    "  - `**`: Exponentiation.\n",
    "  - `//`: Floor division."
   ]
  },
  {
   "cell_type": "code",
   "execution_count": 112,
   "metadata": {},
   "outputs": [
    {
     "data": {
      "text/plain": [
       "(1000, 1, 3, 3.3333333333333335)"
      ]
     },
     "execution_count": 112,
     "metadata": {},
     "output_type": "execute_result"
    }
   ],
   "source": [
    "x = 10\n",
    "y = 3\n",
    "\n",
    "x**y, x%y, x//y, x/y"
   ]
  },
  {
   "cell_type": "code",
   "execution_count": 113,
   "metadata": {},
   "outputs": [
    {
     "data": {
      "text/plain": [
       "'fathursyarief'"
      ]
     },
     "execution_count": 113,
     "metadata": {},
     "output_type": "execute_result"
    }
   ],
   "source": [
    "fathur = \"fathur\"\n",
    "syarief = \"syarief\"\n",
    "\n",
    "fathur + syarief"
   ]
  },
  {
   "cell_type": "markdown",
   "metadata": {},
   "source": [
    "Comparison Operators:\n",
    "  - `==`, `!=`: Equality and inequality.\n",
    "  - `<`, `>`, `<=`, `>=`: Less than, greater than, etc."
   ]
  },
  {
   "cell_type": "code",
   "execution_count": 18,
   "metadata": {},
   "outputs": [
    {
     "data": {
      "text/plain": [
       "False"
      ]
     },
     "execution_count": 18,
     "metadata": {},
     "output_type": "execute_result"
    }
   ],
   "source": [
    "'a' > 'b'"
   ]
  },
  {
   "cell_type": "code",
   "execution_count": 115,
   "metadata": {},
   "outputs": [
    {
     "data": {
      "text/plain": [
       "True"
      ]
     },
     "execution_count": 115,
     "metadata": {},
     "output_type": "execute_result"
    }
   ],
   "source": [
    "True == True"
   ]
  },
  {
   "cell_type": "markdown",
   "metadata": {},
   "source": [
    "Logical Operators:\n",
    "  - `and`, `or`, `not`: Logical AND, OR, NOT."
   ]
  },
  {
   "cell_type": "code",
   "execution_count": 116,
   "metadata": {},
   "outputs": [
    {
     "data": {
      "text/plain": [
       "(True, True, True)"
      ]
     },
     "execution_count": 116,
     "metadata": {},
     "output_type": "execute_result"
    }
   ],
   "source": [
    "not (True and False), True and True, True or False"
   ]
  },
  {
   "cell_type": "markdown",
   "metadata": {},
   "source": [
    "Membership Operators:\n",
    "  - `in`, `not in`: Membership tests."
   ]
  },
  {
   "cell_type": "code",
   "execution_count": 117,
   "metadata": {},
   "outputs": [
    {
     "data": {
      "text/plain": [
       "(True, False, True)"
      ]
     },
     "execution_count": 117,
     "metadata": {},
     "output_type": "execute_result"
    }
   ],
   "source": [
    "unair = \"universitas airlangga\"\n",
    "\n",
    "\"airlangga\" in unair, \"Airlangga\" in unair, \"brawijaya\" not in unair"
   ]
  },
  {
   "cell_type": "markdown",
   "metadata": {},
   "source": [
    "Order Operation (BEMDAS)\n",
    "1. Brackets\n",
    "2. Exponents\n",
    "3. Multiplication\n",
    "4. Division\n",
    "5. Addition\n",
    "6. Substraction"
   ]
  },
  {
   "cell_type": "code",
   "execution_count": 118,
   "metadata": {},
   "outputs": [
    {
     "data": {
      "text/plain": [
       "0.001"
      ]
     },
     "execution_count": 118,
     "metadata": {},
     "output_type": "execute_result"
    }
   ],
   "source": [
    "(x+y) // x / x**y\n",
    "\n",
    "# 13 // 10 / 1000\n",
    "# 1 / 1000\n",
    "# 0.001"
   ]
  },
  {
   "cell_type": "markdown",
   "metadata": {},
   "source": [
    "## **conditional statements**"
   ]
  },
  {
   "cell_type": "markdown",
   "metadata": {},
   "source": [
    "`if`, `elif`, `else`\n",
    "- Allows execution of certain code blocks based on conditions.\n",
    "- Example:\n",
    "  ```python\n",
    "  if condition:\n",
    "      # execute this block\n",
    "  elif another_condition:\n",
    "      # execute this block\n",
    "  else:\n",
    "      # execute this block\n",
    "  ```"
   ]
  },
  {
   "cell_type": "code",
   "execution_count": 20,
   "metadata": {},
   "outputs": [
    {
     "name": "stdout",
     "output_type": "stream",
     "text": [
      "Needs Improvement\n"
     ]
    }
   ],
   "source": [
    "score: int = 50\n",
    "\n",
    "if score >= 90:\n",
    "    print(\"Excellent\")\n",
    "elif score >= 75:\n",
    "    print(\"Good\")\n",
    "elif score >= 60:\n",
    "    print(\"Average\")\n",
    "else:\n",
    "    print(\"Needs Improvement\")"
   ]
  },
  {
   "cell_type": "markdown",
   "metadata": {},
   "source": [
    "## **list**"
   ]
  },
  {
   "cell_type": "markdown",
   "metadata": {},
   "source": [
    "> Mutable: Mutable objects are those whose contents can be altered after creation\n",
    "\n",
    "List Methods:\n",
    "   - append(x): Adds an item x to the end of the list.\n",
    "   - extend(iterable): Extends the list by appending elements from an iterable.\n",
    "   - insert(i, x): Inserts an item x at a given position i.\n",
    "   - remove(x): Removes the first item from the list that is equal to x.\n",
    "   - pop(i): Removes the item at the given position i in the list and returns it.\n",
    "   - clear(): Removes all items from the list.\n",
    "   - index(x): Returns the index of the first item that is equal to x.\n",
    "   - count(x): Returns the number of times x appears in the list.\n",
    "   - sort(): Sorts the items of the list in place.\n",
    "   - reverse(): Reverses the elements of the list in place.\n",
    "   - copy(): Returns a shallow copy of the list."
   ]
  },
  {
   "cell_type": "code",
   "execution_count": 21,
   "metadata": {},
   "outputs": [
    {
     "data": {
      "text/plain": [
       "[3, 2, 1, 'zero', False, 4]"
      ]
     },
     "execution_count": 21,
     "metadata": {},
     "output_type": "execute_result"
    }
   ],
   "source": [
    "# list\n",
    "lifo: list = [3, 2, 1, 'zero', False]\n",
    "\n",
    "lifo.append(4)\n",
    "lifo"
   ]
  },
  {
   "cell_type": "code",
   "execution_count": 22,
   "metadata": {},
   "outputs": [
    {
     "data": {
      "text/plain": [
       "[1, 2, 1, 'zero', False, 4]"
      ]
     },
     "execution_count": 22,
     "metadata": {},
     "output_type": "execute_result"
    }
   ],
   "source": [
    "lifo[0] = 1\n",
    "lifo"
   ]
  },
  {
   "cell_type": "markdown",
   "metadata": {},
   "source": [
    "## **tuple**\n"
   ]
  },
  {
   "cell_type": "markdown",
   "metadata": {},
   "source": [
    "> Immutable:  Immutable objects are those that cannot be changed once created\n",
    "\n",
    "Tuple Methods:\n",
    "   - count(x): Returns the number of times x appears in the tuple.\n",
    "   - index(x): Finds the first occurrence of x in the tuple and returns its index."
   ]
  },
  {
   "cell_type": "code",
   "execution_count": 23,
   "metadata": {},
   "outputs": [
    {
     "data": {
      "text/plain": [
       "2"
      ]
     },
     "execution_count": 23,
     "metadata": {},
     "output_type": "execute_result"
    }
   ],
   "source": [
    "queue: tuple = (1, 2, 3, 2)\n",
    "queue.count(2)"
   ]
  },
  {
   "cell_type": "code",
   "execution_count": 25,
   "metadata": {},
   "outputs": [],
   "source": [
    "# queue[0] = 1\n",
    "# # >> TypeError: 'tuple' object does not support item assignment"
   ]
  },
  {
   "cell_type": "markdown",
   "metadata": {},
   "source": [
    "## **conditional loops**"
   ]
  },
  {
   "cell_type": "markdown",
   "metadata": {},
   "source": [
    "`for`, `while`\n",
    "- `for`\n",
    "> used for iterating over a sequence (list, tuple, dictionary, set, or string)"
   ]
  },
  {
   "cell_type": "code",
   "execution_count": 26,
   "metadata": {},
   "outputs": [
    {
     "name": "stdout",
     "output_type": "stream",
     "text": [
      "1\n",
      "2\n",
      "3\n",
      "4\n",
      "5\n",
      "6\n",
      "7\n",
      "8\n",
      "9\n",
      "10\n"
     ]
    }
   ],
   "source": [
    "ranking: list = [1,2,3,4,5,6,7,8,9,10]\n",
    "for i in ranking:\n",
    "    print(i)"
   ]
  },
  {
   "cell_type": "markdown",
   "metadata": {},
   "source": [
    "\n",
    "- `while`\n",
    "> continues executing as long as the condition is true"
   ]
  },
  {
   "cell_type": "code",
   "execution_count": 126,
   "metadata": {},
   "outputs": [
    {
     "name": "stdout",
     "output_type": "stream",
     "text": [
      "10\n",
      "9\n",
      "8\n",
      "7\n",
      "6\n",
      "5\n",
      "4\n",
      "3\n",
      "2\n",
      "1\n",
      "End!\n"
     ]
    }
   ],
   "source": [
    "start: int = len(ranking) # length of list \"ranking\"\n",
    "\n",
    "while start > 0:\n",
    "    print(start)\n",
    "    start = start - 1 # important\n",
    "print(\"End!\")"
   ]
  },
  {
   "cell_type": "markdown",
   "metadata": {},
   "source": [
    "## **slice operator**"
   ]
  },
  {
   "cell_type": "markdown",
   "metadata": {},
   "source": [
    "```python\n",
    "[start:stop:step]\n",
    "```\n",
    "\n",
    "> Python index start from 0 (zero)"
   ]
  },
  {
   "cell_type": "code",
   "execution_count": 27,
   "metadata": {},
   "outputs": [
    {
     "data": {
      "text/plain": [
       "[1, 2, 3, 4, 5, 6, 7, 8, 9, 10]"
      ]
     },
     "execution_count": 27,
     "metadata": {},
     "output_type": "execute_result"
    }
   ],
   "source": [
    "ranking"
   ]
  },
  {
   "cell_type": "code",
   "execution_count": 28,
   "metadata": {},
   "outputs": [
    {
     "data": {
      "text/plain": [
       "[1, 2, 3, 4]"
      ]
     },
     "execution_count": 28,
     "metadata": {},
     "output_type": "execute_result"
    }
   ],
   "source": [
    "ranking[0:3]"
   ]
  },
  {
   "cell_type": "code",
   "execution_count": 30,
   "metadata": {},
   "outputs": [
    {
     "data": {
      "text/plain": [
       "[1, 2, 3]"
      ]
     },
     "execution_count": 30,
     "metadata": {},
     "output_type": "execute_result"
    }
   ],
   "source": [
    "ranking[:3]"
   ]
  },
  {
   "cell_type": "code",
   "execution_count": 31,
   "metadata": {},
   "outputs": [
    {
     "data": {
      "text/plain": [
       "[4, 5, 6, 7, 8, 9, 10]"
      ]
     },
     "execution_count": 31,
     "metadata": {},
     "output_type": "execute_result"
    }
   ],
   "source": [
    "ranking[3:]"
   ]
  },
  {
   "cell_type": "code",
   "execution_count": 35,
   "metadata": {},
   "outputs": [
    {
     "data": {
      "text/plain": [
       "[4, 6, 8, 10]"
      ]
     },
     "execution_count": 35,
     "metadata": {},
     "output_type": "execute_result"
    }
   ],
   "source": [
    "ranking[3::2]"
   ]
  },
  {
   "cell_type": "code",
   "execution_count": 156,
   "metadata": {},
   "outputs": [
    {
     "data": {
      "text/plain": [
       "[10, 9, 8, 7, 6, 5, 4, 3, 2, 1]"
      ]
     },
     "execution_count": 156,
     "metadata": {},
     "output_type": "execute_result"
    }
   ],
   "source": [
    "ranking[::-1]"
   ]
  },
  {
   "cell_type": "code",
   "execution_count": 157,
   "metadata": {},
   "outputs": [
    {
     "data": {
      "text/plain": [
       "[10, 8, 6, 4, 2]"
      ]
     },
     "execution_count": 157,
     "metadata": {},
     "output_type": "execute_result"
    }
   ],
   "source": [
    "ranking[::-2]"
   ]
  },
  {
   "cell_type": "code",
   "execution_count": 159,
   "metadata": {},
   "outputs": [
    {
     "data": {
      "text/plain": [
       "[4, 3, 2, 1]"
      ]
     },
     "execution_count": 159,
     "metadata": {},
     "output_type": "execute_result"
    }
   ],
   "source": [
    "ranking[3::-1]"
   ]
  },
  {
   "cell_type": "markdown",
   "metadata": {},
   "source": [
    "## **sets**\n",
    "\n",
    "```python\n",
    "set()\n",
    "```"
   ]
  },
  {
   "cell_type": "code",
   "execution_count": 36,
   "metadata": {},
   "outputs": [
    {
     "data": {
      "text/plain": [
       "{1, 2}"
      ]
     },
     "execution_count": 36,
     "metadata": {},
     "output_type": "execute_result"
    }
   ],
   "source": [
    "x = [1,1,1,1,1,2]\n",
    "\n",
    "set(x)"
   ]
  },
  {
   "cell_type": "markdown",
   "metadata": {},
   "source": [
    "## **dictionary**"
   ]
  },
  {
   "cell_type": "markdown",
   "metadata": {},
   "source": [
    "Dictionary Methods:\n",
    "   - get(key): Returns the value for a key, and if the key is not present, it returns None.\n",
    "   - keys(): Returns a new view of the dictionary's keys.\n",
    "   - values(): Returns a new view of the dictionary's values.\n",
    "   - items(): Returns a new view of the dictionary’s key-value pairs (tuples).\n",
    "   - update([other]): Updates the dictionary with elements from another dictionary or from an iterable of key-value pairs.\n",
    "   - pop(key): Removes the specified key and returns the corresponding value.\n",
    "   - popitem(): Removes and returns a (key, value) pair from the dictionary.\n",
    "   - clear(): Removes all items from the dictionary.\n",
    "   - copy(): Returns a shallow copy of the dictionary.\n",
    "   - setdefault(key, default=None): Returns the value of the key if it is in the dictionary; if not, it inserts the key with the default value."
   ]
  },
  {
   "cell_type": "code",
   "execution_count": 124,
   "metadata": {},
   "outputs": [
    {
     "name": "stdout",
     "output_type": "stream",
     "text": [
      "dict_keys(['id', 'message'])\n",
      "dict_values([1337, 'selamat pagi'])\n"
     ]
    }
   ],
   "source": [
    "# ditionary\n",
    "message: dict = {\n",
    "    \"id\": 1337,\n",
    "    \"message\": \"selamat pagi\"\n",
    "}\n",
    "print(message.keys())\n",
    "print(message.values())"
   ]
  },
  {
   "cell_type": "markdown",
   "metadata": {},
   "source": [
    "## **comprehension**"
   ]
  },
  {
   "cell_type": "code",
   "execution_count": 172,
   "metadata": {},
   "outputs": [
    {
     "data": {
      "text/plain": [
       "[0, 4, 16, 36, 64]"
      ]
     },
     "execution_count": 172,
     "metadata": {},
     "output_type": "execute_result"
    }
   ],
   "source": [
    "con = []\n",
    "for x in range(10):\n",
    "    if x % 2 == 0:\n",
    "        con.append(x**2)\n",
    "    \n",
    "con"
   ]
  },
  {
   "cell_type": "code",
   "execution_count": 173,
   "metadata": {},
   "outputs": [
    {
     "data": {
      "text/plain": [
       "[0, 4, 16, 36, 64]"
      ]
     },
     "execution_count": 173,
     "metadata": {},
     "output_type": "execute_result"
    }
   ],
   "source": [
    "[x**2 for x in range(10) if x % 2 == 0]"
   ]
  },
  {
   "cell_type": "code",
   "execution_count": 177,
   "metadata": {},
   "outputs": [
    {
     "data": {
      "text/plain": [
       "{0: 0, 2: 4, 4: 16, 6: 36, 8: 64}"
      ]
     },
     "execution_count": 177,
     "metadata": {},
     "output_type": "execute_result"
    }
   ],
   "source": [
    "{x: x**2 for x in range(10) if x % 2 == 0}"
   ]
  },
  {
   "cell_type": "markdown",
   "metadata": {},
   "source": [
    "## **function**"
   ]
  },
  {
   "cell_type": "markdown",
   "metadata": {},
   "source": [
    "\n",
    "```python\n",
    "def function_name(parameters):\n",
    "    # Code block\n",
    "    return result\n",
    "```"
   ]
  },
  {
   "cell_type": "code",
   "execution_count": 38,
   "metadata": {},
   "outputs": [
    {
     "data": {
      "text/plain": [
       "'The final price after discount is $95.0'"
      ]
     },
     "execution_count": 38,
     "metadata": {},
     "output_type": "execute_result"
    }
   ],
   "source": [
    "def calculate_discount(price: float or int, is_member: bool = False, special_offer: bool = False) -> float:\n",
    "    discount_rate = 0\n",
    "    \n",
    "    if is_member:\n",
    "        discount_rate = 0.1\n",
    "    else:\n",
    "        discount_rate = 0.05\n",
    "        \n",
    "    if special_offer:\n",
    "        discount_rate += 0.05\n",
    "\n",
    "    discount = price * discount_rate\n",
    "    final_price = price - discount\n",
    "\n",
    "    return f\"The final price after discount is ${final_price}\"\n",
    "\n",
    "final_price = calculate_discount(100.0)\n",
    "final_price\n"
   ]
  },
  {
   "cell_type": "markdown",
   "metadata": {},
   "source": [
    "```python\n",
    "lambda arguments: expression\n",
    "```"
   ]
  },
  {
   "cell_type": "code",
   "execution_count": 39,
   "metadata": {},
   "outputs": [
    {
     "data": {
      "text/plain": [
       "7"
      ]
     },
     "execution_count": 39,
     "metadata": {},
     "output_type": "execute_result"
    }
   ],
   "source": [
    "add = lambda x, y: x + y\n",
    "add(5,2)"
   ]
  },
  {
   "cell_type": "code",
   "execution_count": 129,
   "metadata": {},
   "outputs": [
    {
     "data": {
      "text/plain": [
       "'The final price after discount is $85.0'"
      ]
     },
     "execution_count": 129,
     "metadata": {},
     "output_type": "execute_result"
    }
   ],
   "source": [
    "final_price_lambda = lambda x, y, z: calculate_discount(x, y, z)\n",
    "final_price_lambda(100.0, True, True) "
   ]
  },
  {
   "cell_type": "markdown",
   "metadata": {},
   "source": [
    "```python\n",
    "lambda vs def\n",
    "```\n",
    "\n",
    "- `def`\n",
    "    - more verbose, allows for more complex operations.\n",
    "    - preferred for complex logic and improved readability.\n",
    "- `lambda` \n",
    "    - is concise, suitable for simple operations\n",
    "    - Ideal for quick, throwaway functions often used in higher-order functions like map(), filter(), and sorted()."
   ]
  },
  {
   "cell_type": "code",
   "execution_count": 40,
   "metadata": {},
   "outputs": [
    {
     "data": {
      "text/plain": [
       "[('Bob', 30), ('Diana', 27)]"
      ]
     },
     "execution_count": 40,
     "metadata": {},
     "output_type": "execute_result"
    }
   ],
   "source": [
    "people:list[tuple] = [(\"Alice\", 25), (\"Bob\", 30), (\"Charlie\", 20), (\"Diana\", 27)]\n",
    "\n",
    "over_25 = filter(lambda x: x[1] > 25, people)\n",
    "\n",
    "list(over_25)"
   ]
  },
  {
   "cell_type": "markdown",
   "metadata": {},
   "source": [
    "## **exception and error handling**"
   ]
  },
  {
   "cell_type": "markdown",
   "metadata": {},
   "source": [
    "```python\n",
    "try:\n",
    "    # code here\n",
    "except:\n",
    "    # handles the exception if error occurs in the try block\n",
    "finally:\n",
    "    # code that runs regardless of whether an exception occurred\n",
    "```\n",
    "List of except method:\n",
    "1. SyntaxError: For errors in syntax.\n",
    "2. NameError: If a local or global name is not found.\n",
    "3. TypeError: When an operation or function is applied to an object of inappropriate type.\n",
    "4. ValueError: When a function receives an argument of the correct type but with an inappropriate value.\n",
    "5. IndexError: When a sequence subscript is out of range.\n",
    "6. KeyError: When a dictionary key is not found.\n",
    "7. AttributeError: When an attribute reference or assignment fails.\n",
    "8. ZeroDivisionError: When the second argument of a division or modulo operation is zero.\n",
    "9. IOError: When an I/O operation (such as a file open operation) fails for an I/O-related reason.\n",
    "10. ImportError: When the `import` statement has trouble trying to load a module.\n",
    "\n"
   ]
  },
  {
   "cell_type": "code",
   "execution_count": 131,
   "metadata": {},
   "outputs": [
    {
     "name": "stdout",
     "output_type": "stream",
     "text": [
      "5.0\n",
      "Error: Division by zero is not allowed.\n",
      "0\n"
     ]
    }
   ],
   "source": [
    "def divide_numbers(num1: float, num2: float) -> float:\n",
    "    try:\n",
    "        result = num1 / num2\n",
    "    except ZeroDivisionError:\n",
    "        print(\"Error: Division by zero is not allowed.\")\n",
    "        result = 0\n",
    "    finally:\n",
    "        return result\n",
    "\n",
    "print(divide_numbers(10.0, 2.0))  # Outputs 5.0\n",
    "print(divide_numbers(10.0, 0.0))  # Outputs Error message and 0\n"
   ]
  },
  {
   "cell_type": "markdown",
   "metadata": {},
   "source": [
    "## **learning resources**\n",
    "\n",
    "YT Channel:\n",
    "1. [Tech With Tim](https://www.youtube.com/@TechWithTim)\n",
    "2. [ArjanCodes](https://www.youtube.com/@ArjanCodes)\n",
    "3. [Kelas Terbuka](https://www.youtube.com/@KelasTerbuka)\n",
    "4. [Corey Schafer](https://www.youtube.com/@coreyms)\n",
    "\n",
    "Website:\n",
    "1. Edabit\n",
    "2. LeetCode\n",
    "3. Toward Data Science"
   ]
  }
 ],
 "metadata": {
  "kernelspec": {
   "display_name": "python101",
   "language": "python",
   "name": "python3"
  },
  "language_info": {
   "codemirror_mode": {
    "name": "ipython",
    "version": 3
   },
   "file_extension": ".py",
   "mimetype": "text/x-python",
   "name": "python",
   "nbconvert_exporter": "python",
   "pygments_lexer": "ipython3",
   "version": "3.10.13"
  }
 },
 "nbformat": 4,
 "nbformat_minor": 2
}
