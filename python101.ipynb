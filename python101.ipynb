{
 "cells": [
  {
   "cell_type": "markdown",
   "metadata": {},
   "source": [
    "# Python 101\n",
    "Fireside GDSC Universitas Airlangga - 15 November 2023"
   ]
  },
  {
   "cell_type": "markdown",
   "metadata": {},
   "source": [
    "## Python?"
   ]
  },
  {
   "cell_type": "markdown",
   "metadata": {},
   "source": [
    "- One of the most popular programming language\n",
    "- Robust uses\n",
    "- Subjectively one of the easiest language to master"
   ]
  },
  {
   "cell_type": "markdown",
   "metadata": {},
   "source": [
    "## how to install?"
   ]
  },
  {
   "cell_type": "markdown",
   "metadata": {},
   "source": [
    "You can use Miniconda,\n",
    "https://docs.conda.io/projects/miniconda/en/latest/miniconda-install.html\n",
    "\n",
    "Or installed from the source,\n",
    "https://www.python.org/downloads/"
   ]
  },
  {
   "cell_type": "markdown",
   "metadata": {},
   "source": [
    "## virtual environtments - Conda"
   ]
  },
  {
   "cell_type": "markdown",
   "metadata": {},
   "source": [
    "- Conda: Open-source package and environment management system.\n",
    "- Mainly used for Python, but handles other languages too.\n",
    "- Ideal for data science and machine learning projects.\n",
    "- Allows easy creation and switching between different project environments.\n",
    "\n",
    "1. create conda env\n",
    "    ```conda\n",
    "    conda create -n <nama_env> python=<versi>\n",
    "\n",
    "    conda create -n python101 python=3.10\n",
    "    ```\n",
    "\n",
    "2. activate conda env\n",
    "    ```conda\n",
    "    conda activate <nama_env>\n",
    "\n",
    "    conda activate python101\n",
    "    ```\n",
    "3. list of created conda env\n",
    "    ```conda\n",
    "    conda env list\n",
    "\n",
    "    # conda environments:\n",
    "    # base                     /home/austhopia/miniconda3\n",
    "    # python101             *  /home/austhopia/miniconda3/envs/python101\n",
    "    ```"
   ]
  },
  {
   "cell_type": "markdown",
   "metadata": {},
   "source": []
  },
  {
   "cell_type": "markdown",
   "metadata": {},
   "source": []
  }
 ],
 "metadata": {
  "language_info": {
   "name": "python"
  }
 },
 "nbformat": 4,
 "nbformat_minor": 2
}
